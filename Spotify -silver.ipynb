{
 "cells": [
  {
   "cell_type": "code",
   "execution_count": 0,
   "metadata": {
    "application/vnd.databricks.v1+cell": {
     "cellMetadata": {
      "byteLimit": 2048000,
      "implicitDf": true,
      "rowLimit": 10000
     },
     "inputWidgets": {},
     "nuid": "08dd16f7-ff3d-4141-adc2-913ae0c8e2c8",
     "showTitle": false,
     "tableResultSettingsMap": {},
     "title": ""
    }
   },
   "outputs": [
    {
     "output_type": "display_data",
     "data": {
      "text/html": [
       "<style scoped>\n",
       "  .table-result-container {\n",
       "    max-height: 300px;\n",
       "    overflow: auto;\n",
       "  }\n",
       "  table, th, td {\n",
       "    border: 1px solid black;\n",
       "    border-collapse: collapse;\n",
       "  }\n",
       "  th, td {\n",
       "    padding: 5px;\n",
       "  }\n",
       "  th {\n",
       "    text-align: left;\n",
       "  }\n",
       "</style><div class='table-result-container'><table class='table-result'><thead style='background-color: white'><tr><th>year</th><th>id</th><th>name</th><th>artists</th><th>danceability</th><th>energy</th><th>key</th><th>loudness</th><th>mode</th><th>speechiness</th><th>acousticness</th><th>instrumentalness</th><th>liveness</th><th>valence</th><th>tempo</th><th>duration_ms</th><th>time_signature</th></tr></thead><tbody><tr><td>2003</td><td>7iL6o9tox1zgHpKUfh9vu</td><td>In Da Club</td><td>50 Cent</td><td>0.899</td><td>0.713</td><td>6</td><td>-2.752</td><td>0</td><td>0.366</td><td>0.255</td><td>0.0</td><td>0.0708</td><td>0.777</td><td>90.051</td><td>193467</td><td>4</td></tr><tr><td>2003</td><td>5qTvkDrSfvwDv6RBjjcfQ</td><td>Get Busy</td><td>Sean Paul</td><td>0.735</td><td>0.824</td><td>10</td><td>-4.143</td><td>0</td><td>0.036</td><td>0.615</td><td>0.0</td><td>0.158</td><td>0.726</td><td>100.202</td><td>211666</td><td>4</td></tr><tr><td>2003</td><td>7vFv0yFGMJW3qVXbAd9BK</td><td>Your Body Is a Wonderland</td><td>John Mayer</td><td>0.647</td><td>0.729</td><td>5</td><td>-6.251</td><td>1</td><td>0.0236</td><td>0.0206</td><td>0.0489</td><td>0.134</td><td>0.687</td><td>94.01</td><td>249627</td><td>4</td></tr><tr><td>2003</td><td>5IVuqXILoxVWvWEPm82Jx</td><td>Crazy In Love</td><td>Beyoncé</td><td>0.646</td><td>0.77</td><td>2</td><td>-6.596</td><td>0</td><td>0.226</td><td>0.00249</td><td>0.0</td><td>0.0715</td><td>0.681</td><td>99.165</td><td>236133</td><td>4</td></tr><tr><td>2003</td><td>1AdYZ6X00nXmO613Y7GJO</td><td>I Miss You</td><td>blink-182</td><td>0.423</td><td>0.714</td><td>11</td><td>-8.295</td><td>1</td><td>0.045</td><td>0.00113</td><td>6.28E-6</td><td>0.0855</td><td>0.593</td><td>110.017</td><td>227250</td><td>4</td></tr></tbody></table></div>"
      ]
     },
     "metadata": {
      "application/vnd.databricks.v1+output": {
       "addedWidgets": {},
       "aggData": [],
       "aggError": "",
       "aggOverflow": false,
       "aggSchema": [],
       "aggSeriesLimitReached": false,
       "aggType": "",
       "arguments": {},
       "columnCustomDisplayInfos": {},
       "data": [
        [
         "2003",
         "7iL6o9tox1zgHpKUfh9vu",
         "In Da Club",
         "50 Cent",
         0.899,
         0.713,
         6,
         -2.752,
         0,
         0.366,
         0.255,
         0.0,
         0.0708,
         0.777,
         90.051,
         193467,
         4
        ],
        [
         "2003",
         "5qTvkDrSfvwDv6RBjjcfQ",
         "Get Busy",
         "Sean Paul",
         0.735,
         0.824,
         10,
         -4.143,
         0,
         0.036,
         0.615,
         0.0,
         0.158,
         0.726,
         100.202,
         211666,
         4
        ],
        [
         "2003",
         "7vFv0yFGMJW3qVXbAd9BK",
         "Your Body Is a Wonderland",
         "John Mayer",
         0.647,
         0.729,
         5,
         -6.251,
         1,
         0.0236,
         0.0206,
         0.0489,
         0.134,
         0.687,
         94.01,
         249627,
         4
        ],
        [
         "2003",
         "5IVuqXILoxVWvWEPm82Jx",
         "Crazy In Love",
         "Beyoncé",
         0.646,
         0.77,
         2,
         -6.596,
         0,
         0.226,
         0.00249,
         0.0,
         0.0715,
         0.681,
         99.165,
         236133,
         4
        ],
        [
         "2003",
         "1AdYZ6X00nXmO613Y7GJO",
         "I Miss You",
         "blink-182",
         0.423,
         0.714,
         11,
         -8.295,
         1,
         0.045,
         0.00113,
         6.28E-6,
         0.0855,
         0.593,
         110.017,
         227250,
         4
        ]
       ],
       "datasetInfos": [],
       "dbfsResultPath": null,
       "isJsonSchema": true,
       "metadata": {
        "createTempViewForImplicitDf": true,
        "dataframeName": "_sqldf",
        "executionCount": 1
       },
       "overflow": false,
       "plotOptions": {
        "customPlotOptions": {},
        "displayType": "table",
        "pivotAggregation": null,
        "pivotColumns": null,
        "xColumns": null,
        "yColumns": null
       },
       "removedWidgets": [],
       "schema": [
        {
         "metadata": "{}",
         "name": "year",
         "type": "\"string\""
        },
        {
         "metadata": "{}",
         "name": "id",
         "type": "\"string\""
        },
        {
         "metadata": "{}",
         "name": "name",
         "type": "\"string\""
        },
        {
         "metadata": "{}",
         "name": "artists",
         "type": "\"string\""
        },
        {
         "metadata": "{}",
         "name": "danceability",
         "type": "\"double\""
        },
        {
         "metadata": "{}",
         "name": "energy",
         "type": "\"double\""
        },
        {
         "metadata": "{}",
         "name": "key",
         "type": "\"integer\""
        },
        {
         "metadata": "{}",
         "name": "loudness",
         "type": "\"double\""
        },
        {
         "metadata": "{}",
         "name": "mode",
         "type": "\"integer\""
        },
        {
         "metadata": "{}",
         "name": "speechiness",
         "type": "\"double\""
        },
        {
         "metadata": "{}",
         "name": "acousticness",
         "type": "\"double\""
        },
        {
         "metadata": "{}",
         "name": "instrumentalness",
         "type": "\"double\""
        },
        {
         "metadata": "{}",
         "name": "liveness",
         "type": "\"double\""
        },
        {
         "metadata": "{}",
         "name": "valence",
         "type": "\"double\""
        },
        {
         "metadata": "{}",
         "name": "tempo",
         "type": "\"double\""
        },
        {
         "metadata": "{}",
         "name": "duration_ms",
         "type": "\"integer\""
        },
        {
         "metadata": "{}",
         "name": "time_signature",
         "type": "\"integer\""
        }
       ],
       "type": "table"
      }
     },
     "output_type": "display_data"
    }
   ],
   "source": [
    "%sql\n",
    "SELECT * FROM spoty.spoty_schema.bronze_table\n",
    "LIMIT(5)"
   ]
  },
  {
   "cell_type": "code",
   "execution_count": 0,
   "metadata": {
    "application/vnd.databricks.v1+cell": {
     "cellMetadata": {
      "byteLimit": 2048000,
      "implicitDf": true,
      "rowLimit": 10000
     },
     "inputWidgets": {},
     "nuid": "bfc81b85-f5ae-49e0-afc8-b607e19f42ed",
     "showTitle": false,
     "tableResultSettingsMap": {},
     "title": ""
    }
   },
   "outputs": [
    {
     "output_type": "display_data",
     "data": {
      "text/html": [
       "<style scoped>\n",
       "  .table-result-container {\n",
       "    max-height: 300px;\n",
       "    overflow: auto;\n",
       "  }\n",
       "  table, th, td {\n",
       "    border: 1px solid black;\n",
       "    border-collapse: collapse;\n",
       "  }\n",
       "  th, td {\n",
       "    padding: 5px;\n",
       "  }\n",
       "  th {\n",
       "    text-align: left;\n",
       "  }\n",
       "</style><div class='table-result-container'><table class='table-result'><thead style='background-color: white'><tr><th>num_affected_rows</th><th>num_inserted_rows</th></tr></thead><tbody></tbody></table></div>"
      ]
     },
     "metadata": {
      "application/vnd.databricks.v1+output": {
       "addedWidgets": {},
       "aggData": [],
       "aggError": "",
       "aggOverflow": false,
       "aggSchema": [],
       "aggSeriesLimitReached": false,
       "aggType": "",
       "arguments": {},
       "columnCustomDisplayInfos": {},
       "data": [],
       "datasetInfos": [],
       "dbfsResultPath": null,
       "isJsonSchema": true,
       "metadata": {
        "createTempViewForImplicitDf": true,
        "dataframeName": "_sqldf",
        "executionCount": 4
       },
       "overflow": false,
       "plotOptions": {
        "customPlotOptions": {},
        "displayType": "table",
        "pivotAggregation": null,
        "pivotColumns": null,
        "xColumns": null,
        "yColumns": null
       },
       "removedWidgets": [],
       "schema": [
        {
         "metadata": "{}",
         "name": "num_affected_rows",
         "type": "\"long\""
        },
        {
         "metadata": "{}",
         "name": "num_inserted_rows",
         "type": "\"long\""
        }
       ],
       "type": "table"
      }
     },
     "output_type": "display_data"
    }
   ],
   "source": [
    "%sql\n",
    "CREATE TABLE IF NOT EXISTS spoty.spoty_schema.bronze_table\n",
    "  COMMENT 'Transformed data from bronze with unnecessary columns removed'\n",
    "  AS\n",
    "  SELECT \n",
    "    year,\n",
    "    id,\n",
    "    name,\n",
    "    artists,\n",
    "    danceability,\n",
    "    energy,\n",
    "    key,\n",
    "    loudness,\n",
    "    speechiness,\n",
    "    acousticness,\n",
    "    instrumentalness,\n",
    "    liveness,\n",
    "    valence,\n",
    "    tempo,\n",
    "    duration_ms\n",
    "  FROM spoty.spoty_schema.bronze_table"
   ]
  },
  {
   "cell_type": "code",
   "execution_count": 0,
   "metadata": {
    "application/vnd.databricks.v1+cell": {
     "cellMetadata": {
      "byteLimit": 2048000,
      "rowLimit": 10000
     },
     "inputWidgets": {},
     "nuid": "fd8f411e-482e-4e10-be9a-d0acc0a1f697",
     "showTitle": false,
     "tableResultSettingsMap": {},
     "title": ""
    }
   },
   "outputs": [],
   "source": [
    "# Read the bronze table into a DataFrame\n",
    "bronze_df = spark.table(\"spoty.spoty_schema.bronze_table\")\n",
    "\n",
    "# Select the columns you want to keep (excluding 'mode' and 'time_signature')\n",
    "silver_df = bronze_df.select(\n",
    "    \"year\",\n",
    "    \"id\",\n",
    "    \"name\",\n",
    "    \"artists\",\n",
    "    \"danceability\",\n",
    "    \"energy\",\n",
    "    \"key\",\n",
    "    \"loudness\",\n",
    "    \"speechiness\",\n",
    "    \"acousticness\",\n",
    "    \"instrumentalness\",\n",
    "    \"liveness\",\n",
    "    \"valence\",\n",
    "    \"tempo\",\n",
    "    \"duration_ms\"\n",
    ")\n",
    "\n",
    "# Write the result to the silver table\n",
    "silver_df.write.format(\"delta\").mode(\"overwrite\").saveAsTable(\"spoty.spoty_schema.silver_table\")\n"
   ]
  },
  {
   "cell_type": "code",
   "execution_count": 0,
   "metadata": {
    "application/vnd.databricks.v1+cell": {
     "cellMetadata": {
      "byteLimit": 2048000,
      "implicitDf": true,
      "rowLimit": 10000
     },
     "inputWidgets": {},
     "nuid": "9d47fbed-f547-4656-a99c-fd837d9946c6",
     "showTitle": false,
     "tableResultSettingsMap": {},
     "title": ""
    }
   },
   "outputs": [
    {
     "output_type": "display_data",
     "data": {
      "text/html": [
       "<style scoped>\n",
       "  .table-result-container {\n",
       "    max-height: 300px;\n",
       "    overflow: auto;\n",
       "  }\n",
       "  table, th, td {\n",
       "    border: 1px solid black;\n",
       "    border-collapse: collapse;\n",
       "  }\n",
       "  th, td {\n",
       "    padding: 5px;\n",
       "  }\n",
       "  th {\n",
       "    text-align: left;\n",
       "  }\n",
       "</style><div class='table-result-container'><table class='table-result'><thead style='background-color: white'><tr><th>year</th><th>id</th><th>name</th><th>artists</th><th>danceability</th><th>energy</th><th>key</th><th>loudness</th><th>speechiness</th><th>acousticness</th><th>instrumentalness</th><th>liveness</th><th>valence</th><th>tempo</th><th>duration_ms</th></tr></thead><tbody><tr><td>2003</td><td>7iL6o9tox1zgHpKUfh9vu</td><td>In Da Club</td><td>50 Cent</td><td>0.899</td><td>0.713</td><td>6</td><td>-2.752</td><td>0.366</td><td>0.255</td><td>0.0</td><td>0.0708</td><td>0.777</td><td>90.051</td><td>193467</td></tr><tr><td>2003</td><td>5qTvkDrSfvwDv6RBjjcfQ</td><td>Get Busy</td><td>Sean Paul</td><td>0.735</td><td>0.824</td><td>10</td><td>-4.143</td><td>0.036</td><td>0.615</td><td>0.0</td><td>0.158</td><td>0.726</td><td>100.202</td><td>211666</td></tr><tr><td>2003</td><td>7vFv0yFGMJW3qVXbAd9BK</td><td>Your Body Is a Wonderland</td><td>John Mayer</td><td>0.647</td><td>0.729</td><td>5</td><td>-6.251</td><td>0.0236</td><td>0.0206</td><td>0.0489</td><td>0.134</td><td>0.687</td><td>94.01</td><td>249627</td></tr><tr><td>2003</td><td>5IVuqXILoxVWvWEPm82Jx</td><td>Crazy In Love</td><td>Beyoncé</td><td>0.646</td><td>0.77</td><td>2</td><td>-6.596</td><td>0.226</td><td>0.00249</td><td>0.0</td><td>0.0715</td><td>0.681</td><td>99.165</td><td>236133</td></tr><tr><td>2003</td><td>1AdYZ6X00nXmO613Y7GJO</td><td>I Miss You</td><td>blink-182</td><td>0.423</td><td>0.714</td><td>11</td><td>-8.295</td><td>0.045</td><td>0.00113</td><td>6.28E-6</td><td>0.0855</td><td>0.593</td><td>110.017</td><td>227250</td></tr></tbody></table></div>"
      ]
     },
     "metadata": {
      "application/vnd.databricks.v1+output": {
       "addedWidgets": {},
       "aggData": [],
       "aggError": "",
       "aggOverflow": false,
       "aggSchema": [],
       "aggSeriesLimitReached": false,
       "aggType": "",
       "arguments": {},
       "columnCustomDisplayInfos": {},
       "data": [
        [
         "2003",
         "7iL6o9tox1zgHpKUfh9vu",
         "In Da Club",
         "50 Cent",
         0.899,
         0.713,
         6,
         -2.752,
         0.366,
         0.255,
         0.0,
         0.0708,
         0.777,
         90.051,
         193467
        ],
        [
         "2003",
         "5qTvkDrSfvwDv6RBjjcfQ",
         "Get Busy",
         "Sean Paul",
         0.735,
         0.824,
         10,
         -4.143,
         0.036,
         0.615,
         0.0,
         0.158,
         0.726,
         100.202,
         211666
        ],
        [
         "2003",
         "7vFv0yFGMJW3qVXbAd9BK",
         "Your Body Is a Wonderland",
         "John Mayer",
         0.647,
         0.729,
         5,
         -6.251,
         0.0236,
         0.0206,
         0.0489,
         0.134,
         0.687,
         94.01,
         249627
        ],
        [
         "2003",
         "5IVuqXILoxVWvWEPm82Jx",
         "Crazy In Love",
         "Beyoncé",
         0.646,
         0.77,
         2,
         -6.596,
         0.226,
         0.00249,
         0.0,
         0.0715,
         0.681,
         99.165,
         236133
        ],
        [
         "2003",
         "1AdYZ6X00nXmO613Y7GJO",
         "I Miss You",
         "blink-182",
         0.423,
         0.714,
         11,
         -8.295,
         0.045,
         0.00113,
         6.28E-6,
         0.0855,
         0.593,
         110.017,
         227250
        ]
       ],
       "datasetInfos": [],
       "dbfsResultPath": null,
       "isJsonSchema": true,
       "metadata": {
        "createTempViewForImplicitDf": true,
        "dataframeName": "_sqldf",
        "executionCount": 2
       },
       "overflow": false,
       "plotOptions": {
        "customPlotOptions": {},
        "displayType": "table",
        "pivotAggregation": null,
        "pivotColumns": null,
        "xColumns": null,
        "yColumns": null
       },
       "removedWidgets": [],
       "schema": [
        {
         "metadata": "{}",
         "name": "year",
         "type": "\"string\""
        },
        {
         "metadata": "{}",
         "name": "id",
         "type": "\"string\""
        },
        {
         "metadata": "{}",
         "name": "name",
         "type": "\"string\""
        },
        {
         "metadata": "{}",
         "name": "artists",
         "type": "\"string\""
        },
        {
         "metadata": "{}",
         "name": "danceability",
         "type": "\"double\""
        },
        {
         "metadata": "{}",
         "name": "energy",
         "type": "\"double\""
        },
        {
         "metadata": "{}",
         "name": "key",
         "type": "\"integer\""
        },
        {
         "metadata": "{}",
         "name": "loudness",
         "type": "\"double\""
        },
        {
         "metadata": "{}",
         "name": "speechiness",
         "type": "\"double\""
        },
        {
         "metadata": "{}",
         "name": "acousticness",
         "type": "\"double\""
        },
        {
         "metadata": "{}",
         "name": "instrumentalness",
         "type": "\"double\""
        },
        {
         "metadata": "{}",
         "name": "liveness",
         "type": "\"double\""
        },
        {
         "metadata": "{}",
         "name": "valence",
         "type": "\"double\""
        },
        {
         "metadata": "{}",
         "name": "tempo",
         "type": "\"double\""
        },
        {
         "metadata": "{}",
         "name": "duration_ms",
         "type": "\"integer\""
        }
       ],
       "type": "table"
      }
     },
     "output_type": "display_data"
    }
   ],
   "source": [
    "%sql\n",
    "SELECT * FROM spoty.spoty_schema.silver_table\n",
    "LIMIT(5)"
   ]
  },
  {
   "cell_type": "code",
   "execution_count": 0,
   "metadata": {
    "application/vnd.databricks.v1+cell": {
     "cellMetadata": {
      "byteLimit": 2048000,
      "implicitDf": true,
      "rowLimit": 10000
     },
     "inputWidgets": {},
     "nuid": "b1206bc4-5953-40a1-ab4f-19edc1b0a411",
     "showTitle": false,
     "tableResultSettingsMap": {},
     "title": ""
    }
   },
   "outputs": [
    {
     "output_type": "display_data",
     "data": {
      "text/html": [
       "<style scoped>\n",
       "  .table-result-container {\n",
       "    max-height: 300px;\n",
       "    overflow: auto;\n",
       "  }\n",
       "  table, th, td {\n",
       "    border: 1px solid black;\n",
       "    border-collapse: collapse;\n",
       "  }\n",
       "  th, td {\n",
       "    padding: 5px;\n",
       "  }\n",
       "  th {\n",
       "    text-align: left;\n",
       "  }\n",
       "</style><div class='table-result-container'><table class='table-result'><thead style='background-color: white'><tr><th>year</th></tr></thead><tbody><tr><td>2005</td></tr><tr><td>2001</td></tr><tr><td>2002</td></tr><tr><td>2003</td></tr><tr><td>2004</td></tr></tbody></table></div>"
      ]
     },
     "metadata": {
      "application/vnd.databricks.v1+output": {
       "addedWidgets": {},
       "aggData": [],
       "aggError": "",
       "aggOverflow": false,
       "aggSchema": [],
       "aggSeriesLimitReached": false,
       "aggType": "",
       "arguments": {},
       "columnCustomDisplayInfos": {},
       "data": [
        [
         "2005"
        ],
        [
         "2001"
        ],
        [
         "2002"
        ],
        [
         "2003"
        ],
        [
         "2004"
        ]
       ],
       "datasetInfos": [],
       "dbfsResultPath": null,
       "isJsonSchema": true,
       "metadata": {
        "createTempViewForImplicitDf": true,
        "dataframeName": "_sqldf",
        "executionCount": 3
       },
       "overflow": false,
       "plotOptions": {
        "customPlotOptions": {},
        "displayType": "table",
        "pivotAggregation": null,
        "pivotColumns": null,
        "xColumns": null,
        "yColumns": null
       },
       "removedWidgets": [],
       "schema": [
        {
         "metadata": "{}",
         "name": "year",
         "type": "\"string\""
        }
       ],
       "type": "table"
      }
     },
     "output_type": "display_data"
    }
   ],
   "source": [
    "%sql\n",
    "SELECT DISTINCT year\n",
    "FROM spoty.spoty_schema.silver_table;\n"
   ]
  },
  {
   "cell_type": "code",
   "execution_count": 0,
   "metadata": {
    "application/vnd.databricks.v1+cell": {
     "cellMetadata": {
      "byteLimit": 2048000,
      "implicitDf": true,
      "rowLimit": 10000
     },
     "inputWidgets": {},
     "nuid": "9c6b590c-6452-47c2-861e-141c334a7746",
     "showTitle": false,
     "tableResultSettingsMap": {},
     "title": ""
    }
   },
   "outputs": [
    {
     "output_type": "display_data",
     "data": {
      "text/html": [
       "<style scoped>\n",
       "  .table-result-container {\n",
       "    max-height: 300px;\n",
       "    overflow: auto;\n",
       "  }\n",
       "  table, th, td {\n",
       "    border: 1px solid black;\n",
       "    border-collapse: collapse;\n",
       "  }\n",
       "  th, td {\n",
       "    padding: 5px;\n",
       "  }\n",
       "  th {\n",
       "    text-align: left;\n",
       "  }\n",
       "</style><div class='table-result-container'><table class='table-result'><thead style='background-color: white'><tr></tr></thead><tbody></tbody></table></div>"
      ]
     },
     "metadata": {
      "application/vnd.databricks.v1+output": {
       "addedWidgets": {},
       "aggData": [],
       "aggError": "",
       "aggOverflow": false,
       "aggSchema": [],
       "aggSeriesLimitReached": false,
       "aggType": "",
       "arguments": {},
       "columnCustomDisplayInfos": {},
       "data": [],
       "datasetInfos": [],
       "dbfsResultPath": null,
       "isJsonSchema": true,
       "metadata": {
        "dataframeName": null
       },
       "overflow": false,
       "plotOptions": {
        "customPlotOptions": {},
        "displayType": "table",
        "pivotAggregation": null,
        "pivotColumns": null,
        "xColumns": null,
        "yColumns": null
       },
       "removedWidgets": [],
       "schema": [],
       "type": "table"
      }
     },
     "output_type": "display_data"
    }
   ],
   "source": [
    "%sql\n",
    "COMMENT ON TABLE spoty.spoty_schema.bronze_table \n",
    "    IS 'This is cleaned and enriched layer'"
   ]
  },
  {
   "cell_type": "code",
   "execution_count": 0,
   "metadata": {
    "application/vnd.databricks.v1+cell": {
     "cellMetadata": {
      "byteLimit": 2048000,
      "implicitDf": true,
      "rowLimit": 10000
     },
     "inputWidgets": {},
     "nuid": "ffba3c64-17c4-452a-aa75-34ace08ac984",
     "showTitle": false,
     "tableResultSettingsMap": {},
     "title": ""
    }
   },
   "outputs": [
    {
     "output_type": "display_data",
     "data": {
      "text/html": [
       "<style scoped>\n",
       "  .table-result-container {\n",
       "    max-height: 300px;\n",
       "    overflow: auto;\n",
       "  }\n",
       "  table, th, td {\n",
       "    border: 1px solid black;\n",
       "    border-collapse: collapse;\n",
       "  }\n",
       "  th, td {\n",
       "    padding: 5px;\n",
       "  }\n",
       "  th {\n",
       "    text-align: left;\n",
       "  }\n",
       "</style><div class='table-result-container'><table class='table-result'><thead style='background-color: white'><tr><th>col_name</th><th>data_type</th><th>comment</th></tr></thead><tbody><tr><td>year</td><td>string</td><td>null</td></tr><tr><td>id</td><td>string</td><td>null</td></tr><tr><td>name</td><td>string</td><td>null</td></tr><tr><td>artists</td><td>string</td><td>null</td></tr><tr><td>danceability</td><td>double</td><td>null</td></tr><tr><td>energy</td><td>double</td><td>null</td></tr><tr><td>key</td><td>int</td><td>null</td></tr><tr><td>loudness</td><td>double</td><td>null</td></tr><tr><td>speechiness</td><td>double</td><td>null</td></tr><tr><td>acousticness</td><td>double</td><td>null</td></tr><tr><td>instrumentalness</td><td>double</td><td>null</td></tr><tr><td>liveness</td><td>double</td><td>null</td></tr><tr><td>valence</td><td>double</td><td>null</td></tr><tr><td>tempo</td><td>double</td><td>null</td></tr><tr><td>duration_ms</td><td>int</td><td>null</td></tr><tr><td></td><td></td><td></td></tr><tr><td># Delta Statistics Columns</td><td></td><td></td></tr><tr><td>Column Names</td><td>name, tempo, valence, duration_ms, energy, year, liveness, speechiness, acousticness, key, id, danceability, artists, loudness, instrumentalness</td><td></td></tr><tr><td>Column Selection Method</td><td>first-32</td><td></td></tr><tr><td></td><td></td><td></td></tr><tr><td># Detailed Table Information</td><td></td><td></td></tr><tr><td>Catalog</td><td>spoty</td><td></td></tr><tr><td>Database</td><td>spoty_schema</td><td></td></tr><tr><td>Table</td><td>silver_table</td><td></td></tr><tr><td>Created Time</td><td>Mon Feb 17 10:59:09 UTC 2025</td><td></td></tr><tr><td>Last Access</td><td>UNKNOWN</td><td></td></tr><tr><td>Created By</td><td>Spark </td><td></td></tr><tr><td>Type</td><td>MANAGED</td><td></td></tr><tr><td>Location</td><td>abfss://denis@gordeleku.dfs.core.windows.net/608220a2-974a-4a3b-ae7f-b65dca807cfb/tables/a6e9374b-c025-4c33-b3f2-04b623c7781b</td><td></td></tr><tr><td>Provider</td><td>delta</td><td></td></tr><tr><td>Owner</td><td>ynwa_07@hotmail.com</td><td></td></tr><tr><td>Is_managed_location</td><td>true</td><td></td></tr><tr><td>Predictive Optimization</td><td>ENABLE (inherited from METASTORE nirea)</td><td></td></tr><tr><td>Table Properties</td><td>[delta.enableDeletionVectors=true,delta.feature.appendOnly=supported,delta.feature.deletionVectors=supported,delta.feature.invariants=supported,delta.minReaderVersion=3,delta.minWriterVersion=7]</td><td></td></tr></tbody></table></div>"
      ]
     },
     "metadata": {
      "application/vnd.databricks.v1+output": {
       "addedWidgets": {},
       "aggData": [],
       "aggError": "",
       "aggOverflow": false,
       "aggSchema": [],
       "aggSeriesLimitReached": false,
       "aggType": "",
       "arguments": {},
       "columnCustomDisplayInfos": {},
       "data": [
        [
         "year",
         "string",
         null
        ],
        [
         "id",
         "string",
         null
        ],
        [
         "name",
         "string",
         null
        ],
        [
         "artists",
         "string",
         null
        ],
        [
         "danceability",
         "double",
         null
        ],
        [
         "energy",
         "double",
         null
        ],
        [
         "key",
         "int",
         null
        ],
        [
         "loudness",
         "double",
         null
        ],
        [
         "speechiness",
         "double",
         null
        ],
        [
         "acousticness",
         "double",
         null
        ],
        [
         "instrumentalness",
         "double",
         null
        ],
        [
         "liveness",
         "double",
         null
        ],
        [
         "valence",
         "double",
         null
        ],
        [
         "tempo",
         "double",
         null
        ],
        [
         "duration_ms",
         "int",
         null
        ],
        [
         "",
         "",
         ""
        ],
        [
         "# Delta Statistics Columns",
         "",
         ""
        ],
        [
         "Column Names",
         "name, tempo, valence, duration_ms, energy, year, liveness, speechiness, acousticness, key, id, danceability, artists, loudness, instrumentalness",
         ""
        ],
        [
         "Column Selection Method",
         "first-32",
         ""
        ],
        [
         "",
         "",
         ""
        ],
        [
         "# Detailed Table Information",
         "",
         ""
        ],
        [
         "Catalog",
         "spoty",
         ""
        ],
        [
         "Database",
         "spoty_schema",
         ""
        ],
        [
         "Table",
         "silver_table",
         ""
        ],
        [
         "Created Time",
         "Mon Feb 17 10:59:09 UTC 2025",
         ""
        ],
        [
         "Last Access",
         "UNKNOWN",
         ""
        ],
        [
         "Created By",
         "Spark ",
         ""
        ],
        [
         "Type",
         "MANAGED",
         ""
        ],
        [
         "Location",
         "abfss://denis@gordeleku.dfs.core.windows.net/608220a2-974a-4a3b-ae7f-b65dca807cfb/tables/a6e9374b-c025-4c33-b3f2-04b623c7781b",
         ""
        ],
        [
         "Provider",
         "delta",
         ""
        ],
        [
         "Owner",
         "ynwa_07@hotmail.com",
         ""
        ],
        [
         "Is_managed_location",
         "true",
         ""
        ],
        [
         "Predictive Optimization",
         "ENABLE (inherited from METASTORE nirea)",
         ""
        ],
        [
         "Table Properties",
         "[delta.enableDeletionVectors=true,delta.feature.appendOnly=supported,delta.feature.deletionVectors=supported,delta.feature.invariants=supported,delta.minReaderVersion=3,delta.minWriterVersion=7]",
         ""
        ]
       ],
       "datasetInfos": [],
       "dbfsResultPath": null,
       "isJsonSchema": true,
       "metadata": {
        "createTempViewForImplicitDf": true,
        "dataframeName": "_sqldf",
        "executionCount": 16
       },
       "overflow": false,
       "plotOptions": {
        "customPlotOptions": {},
        "displayType": "table",
        "pivotAggregation": null,
        "pivotColumns": null,
        "xColumns": null,
        "yColumns": null
       },
       "removedWidgets": [],
       "schema": [
        {
         "metadata": "{\"comment\":\"name of the column\"}",
         "name": "col_name",
         "type": "\"string\""
        },
        {
         "metadata": "{\"comment\":\"data type of the column\"}",
         "name": "data_type",
         "type": "\"string\""
        },
        {
         "metadata": "{\"comment\":\"comment of the column\"}",
         "name": "comment",
         "type": "\"string\""
        }
       ],
       "type": "table"
      }
     },
     "output_type": "display_data"
    }
   ],
   "source": [
    "%sql\n",
    "DESCRIBE EXTENDED spoty.spoty_schema.silver_table \n",
    "---we can  see this time same silver table is a managed table---\n",
    "\n",
    " "
   ]
  }
 ],
 "metadata": {
  "application/vnd.databricks.v1+notebook": {
   "computePreferences": null,
   "dashboards": [],
   "environmentMetadata": {
    "base_environment": "",
    "environment_version": "2"
   },
   "language": "python",
   "notebookMetadata": {
    "mostRecentlyExecutedCommandWithImplicitDF": {
     "commandId": 8840601606338284,
     "dataframes": [
      "_sqldf"
     ]
    },
    "pythonIndentUnit": 4
   },
   "notebookName": "Spotify - silver",
   "widgets": {}
  },
  "language_info": {
   "name": "python"
  }
 },
 "nbformat": 4,
 "nbformat_minor": 0
}