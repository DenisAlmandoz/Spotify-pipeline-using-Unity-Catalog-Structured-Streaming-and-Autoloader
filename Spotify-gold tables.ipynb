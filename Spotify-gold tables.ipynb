{
 "cells": [
  {
   "cell_type": "markdown",
   "metadata": {
    "application/vnd.databricks.v1+cell": {
     "cellMetadata": {},
     "inputWidgets": {},
     "nuid": "b63352cf-9694-45af-b224-574759fbb003",
     "showTitle": false,
     "tableResultSettingsMap": {},
     "title": ""
    }
   },
   "source": [
    "##Song count per artists"
   ]
  },
  {
   "cell_type": "code",
   "execution_count": 0,
   "metadata": {
    "application/vnd.databricks.v1+cell": {
     "cellMetadata": {
      "byteLimit": 2048000,
      "implicitDf": true,
      "rowLimit": 10000
     },
     "inputWidgets": {},
     "nuid": "5bf3513a-18a4-4fc9-b0cf-c7556ac626c0",
     "showTitle": false,
     "tableResultSettingsMap": {},
     "title": ""
    }
   },
   "outputs": [
    {
     "output_type": "display_data",
     "data": {
      "text/html": [
       "<style scoped>\n",
       "  .table-result-container {\n",
       "    max-height: 300px;\n",
       "    overflow: auto;\n",
       "  }\n",
       "  table, th, td {\n",
       "    border: 1px solid black;\n",
       "    border-collapse: collapse;\n",
       "  }\n",
       "  th, td {\n",
       "    padding: 5px;\n",
       "  }\n",
       "  th {\n",
       "    text-align: left;\n",
       "  }\n",
       "</style><div class='table-result-container'><table class='table-result'><thead style='background-color: white'><tr><th>num_affected_rows</th><th>num_inserted_rows</th></tr></thead><tbody></tbody></table></div>"
      ]
     },
     "metadata": {
      "application/vnd.databricks.v1+output": {
       "addedWidgets": {},
       "aggData": [],
       "aggError": "",
       "aggOverflow": false,
       "aggSchema": [],
       "aggSeriesLimitReached": false,
       "aggType": "",
       "arguments": {},
       "columnCustomDisplayInfos": {},
       "data": [],
       "datasetInfos": [],
       "dbfsResultPath": null,
       "isJsonSchema": true,
       "metadata": {
        "createTempViewForImplicitDf": true,
        "dataframeName": "_sqldf",
        "executionCount": 2
       },
       "overflow": false,
       "plotOptions": {
        "customPlotOptions": {},
        "displayType": "table",
        "pivotAggregation": null,
        "pivotColumns": null,
        "xColumns": null,
        "yColumns": null
       },
       "removedWidgets": [],
       "schema": [
        {
         "metadata": "{}",
         "name": "num_affected_rows",
         "type": "\"long\""
        },
        {
         "metadata": "{}",
         "name": "num_inserted_rows",
         "type": "\"long\""
        }
       ],
       "type": "table"
      }
     },
     "output_type": "display_data"
    }
   ],
   "source": [
    "%sql\n",
    "CREATE TABLE IF NOT EXISTS spoty.spoty_schema.gold_artist_song_count AS\n",
    "SELECT\n",
    "    artists,\n",
    "    COUNT(*) AS song_count\n",
    "FROM\n",
    "    spoty.spoty_schema.silver_table\n",
    "GROUP BY\n",
    "    artists;"
   ]
  },
  {
   "cell_type": "code",
   "execution_count": 0,
   "metadata": {
    "application/vnd.databricks.v1+cell": {
     "cellMetadata": {
      "byteLimit": 2048000,
      "implicitDf": true,
      "rowLimit": 10000
     },
     "inputWidgets": {},
     "nuid": "e3bbb63c-09e9-4b18-a373-7dc1b54b54c9",
     "showTitle": false,
     "tableResultSettingsMap": {},
     "title": ""
    }
   },
   "outputs": [
    {
     "output_type": "display_data",
     "data": {
      "text/html": [
       "<style scoped>\n",
       "  .table-result-container {\n",
       "    max-height: 300px;\n",
       "    overflow: auto;\n",
       "  }\n",
       "  table, th, td {\n",
       "    border: 1px solid black;\n",
       "    border-collapse: collapse;\n",
       "  }\n",
       "  th, td {\n",
       "    padding: 5px;\n",
       "  }\n",
       "  th {\n",
       "    text-align: left;\n",
       "  }\n",
       "</style><div class='table-result-container'><table class='table-result'><thead style='background-color: white'><tr><th>artists</th><th>song_count</th></tr></thead><tbody><tr><td>*NSYNC</td><td>3</td></tr><tr><td>Rob Thomas</td><td>1</td></tr><tr><td>Nickelback</td><td>3</td></tr><tr><td>Madonna</td><td>3</td></tr><tr><td>Ryan Cabrera</td><td>1</td></tr><tr><td>Kaiser Chiefs</td><td>2</td></tr><tr><td>Lifehouse</td><td>2</td></tr><tr><td>Five For Fighting</td><td>2</td></tr><tr><td>U2</td><td>2</td></tr><tr><td>Baby Bash</td><td>3</td></tr><tr><td>Craig David</td><td>3</td></tr><tr><td>Incubus</td><td>1</td></tr><tr><td>Sunshine Anderson</td><td>1</td></tr><tr><td>112</td><td>2</td></tr><tr><td>Thirty Seconds To Mars</td><td>1</td></tr><tr><td>DB Boulevard</td><td>1</td></tr><tr><td>Kanye West</td><td>5</td></tr><tr><td>Fat Joe</td><td>2</td></tr><tr><td>The Coral</td><td>1</td></tr><tr><td>Coldplay</td><td>6</td></tr><tr><td>Uncle Kracker</td><td>2</td></tr><tr><td>P.O.D.</td><td>1</td></tr><tr><td>Jeezy</td><td>1</td></tr><tr><td>Robbie Williams</td><td>4</td></tr><tr><td>Kylie Minogue</td><td>7</td></tr><tr><td>Gwen Stefani</td><td>4</td></tr><tr><td>Oasis</td><td>3</td></tr><tr><td>Michael Bublé</td><td>1</td></tr><tr><td>Jamiroquai</td><td>1</td></tr><tr><td>The Pussycat Dolls</td><td>2</td></tr><tr><td>Bodyrockers</td><td>1</td></tr><tr><td>S Club 7</td><td>2</td></tr><tr><td>Howie Day</td><td>1</td></tr><tr><td>Nelly</td><td>4</td></tr><tr><td>Lenny Kravitz</td><td>1</td></tr><tr><td>Joe</td><td>1</td></tr><tr><td>Lil Jon & The East Side Boyz</td><td>1</td></tr><tr><td>Papa Roach</td><td>1</td></tr><tr><td>Jimmy Eat World</td><td>2</td></tr><tr><td>Ginuwine</td><td>2</td></tr><tr><td>Death Cab for Cutie</td><td>1</td></tr><tr><td>Sugababes</td><td>6</td></tr><tr><td>3 Doors Down</td><td>3</td></tr><tr><td>Steps</td><td>1</td></tr><tr><td>Ludacris</td><td>5</td></tr><tr><td>Pretty Ricky</td><td>2</td></tr><tr><td>No Doubt</td><td>5</td></tr><tr><td>Ray J</td><td>1</td></tr><tr><td>Faithless</td><td>1</td></tr><tr><td>Missy Elliott</td><td>6</td></tr><tr><td>The Click Five</td><td>1</td></tr><tr><td>John Mayer</td><td>4</td></tr><tr><td>Mariah Carey</td><td>3</td></tr><tr><td>Kelly Clarkson</td><td>7</td></tr><tr><td>Jennifer Lopez</td><td>6</td></tr><tr><td>Toby Keith</td><td>1</td></tr><tr><td>Gorillaz</td><td>3</td></tr><tr><td>Usher</td><td>9</td></tr><tr><td>Natalie Imbruglia</td><td>1</td></tr><tr><td>Basement Jaxx</td><td>2</td></tr><tr><td>Blu Cantrell</td><td>1</td></tr><tr><td>Matchbox Twenty</td><td>2</td></tr><tr><td>Staind</td><td>1</td></tr><tr><td>Jesse McCartney</td><td>1</td></tr><tr><td>Jack Johnson</td><td>2</td></tr><tr><td>Ying Yang Twins</td><td>2</td></tr><tr><td>Ricky Martin</td><td>1</td></tr><tr><td>OutKast</td><td>6</td></tr><tr><td>Trillville</td><td>1</td></tr><tr><td>Rui Da Silva</td><td>1</td></tr><tr><td>Gabrielle</td><td>2</td></tr><tr><td>3LW</td><td>1</td></tr><tr><td>50 Cent</td><td>4</td></tr><tr><td>Faith Hill</td><td>1</td></tr><tr><td>Ronan Keating</td><td>2</td></tr><tr><td>Weezer</td><td>2</td></tr><tr><td>Fragma</td><td>1</td></tr><tr><td>Ja Rule</td><td>4</td></tr><tr><td>iio</td><td>1</td></tr><tr><td>Trick Daddy</td><td>1</td></tr><tr><td>Case</td><td>1</td></tr><tr><td>Franz Ferdinand</td><td>2</td></tr><tr><td>The Chemical Brothers</td><td>1</td></tr><tr><td>Green Day</td><td>3</td></tr><tr><td>Mary J. Blige</td><td>3</td></tr><tr><td>Shakira</td><td>2</td></tr><tr><td>McFly</td><td>2</td></tr><tr><td>Brian McFadden</td><td>1</td></tr><tr><td>Travis</td><td>1</td></tr><tr><td>Jessica Simpson</td><td>2</td></tr><tr><td>Arctic Monkeys</td><td>1</td></tr><tr><td>T-Pain</td><td>1</td></tr><tr><td>Fall Out Boy</td><td>1</td></tr><tr><td>Sugar Ray</td><td>1</td></tr><tr><td>Black Eyed Peas</td><td>2</td></tr><tr><td>Daniel Bedingfield</td><td>4</td></tr><tr><td>Blue</td><td>3</td></tr><tr><td>Emma Bunton</td><td>1</td></tr><tr><td>Eve</td><td>2</td></tr><tr><td>Nelly Furtado</td><td>2</td></tr><tr><td>Eminem</td><td>5</td></tr><tr><td>Erick Sermon</td><td>1</td></tr><tr><td>David Banner</td><td>1</td></tr><tr><td>Bobby V.</td><td>1</td></tr><tr><td>Dido</td><td>3</td></tr><tr><td>Musiq Soulchild</td><td>2</td></tr><tr><td>James Blunt</td><td>1</td></tr><tr><td>KT Tunstall</td><td>1</td></tr><tr><td>Sum 41</td><td>2</td></tr><tr><td>Tamia</td><td>1</td></tr><tr><td>The Supermen Lovers</td><td>1</td></tr><tr><td>Alicia Keys</td><td>6</td></tr><tr><td>Eve 6</td><td>1</td></tr><tr><td>John Legend</td><td>1</td></tr><tr><td>Shayne Ward</td><td>1</td></tr><tr><td>The All-American Rejects</td><td>1</td></tr><tr><td>Evan And Jaron</td><td>1</td></tr><tr><td>The Strokes</td><td>2</td></tr><tr><td>Janet Jackson</td><td>2</td></tr><tr><td>Atomic Kitten</td><td>3</td></tr><tr><td>Train</td><td>2</td></tr><tr><td>Britney Spears</td><td>7</td></tr><tr><td>Enya</td><td>1</td></tr><tr><td>Roger Sanchez</td><td>1</td></tr><tr><td>Wyclef Jean</td><td>1</td></tr><tr><td>OPM</td><td>1</td></tr><tr><td>Westlife</td><td>4</td></tr><tr><td>D4L</td><td>1</td></tr><tr><td>JAY-Z</td><td>4</td></tr><tr><td>Ciara</td><td>3</td></tr><tr><td>Destiny's Child</td><td>5</td></tr><tr><td>K-Ci & JoJo</td><td>1</td></tr><tr><td>Hear'Say</td><td>1</td></tr><tr><td>2Pac</td><td>2</td></tr><tr><td>Daniel Powter</td><td>1</td></tr><tr><td>Bullet For My Valentine</td><td>1</td></tr><tr><td>Aerosmith</td><td>1</td></tr><tr><td>Jagged Edge</td><td>2</td></tr><tr><td>Lonestar</td><td>1</td></tr><tr><td>Backstreet Boys</td><td>1</td></tr><tr><td>O-Town</td><td>1</td></tr><tr><td>Mario</td><td>3</td></tr><tr><td>Katie Melua</td><td>2</td></tr><tr><td>Amerie</td><td>1</td></tr><tr><td>Stereophonics</td><td>2</td></tr><tr><td>Gavin DeGraw</td><td>2</td></tr><tr><td>Bow Wow</td><td>2</td></tr><tr><td>City High</td><td>2</td></tr><tr><td>The Isley Brothers</td><td>1</td></tr><tr><td>Foo Fighters</td><td>1</td></tr><tr><td>The Calling</td><td>2</td></tr><tr><td>The Game</td><td>1</td></tr><tr><td>Snoop Dogg</td><td>1</td></tr><tr><td>Floetry</td><td>1</td></tr><tr><td>Jamelia</td><td>1</td></tr><tr><td>Michelle Branch</td><td>1</td></tr><tr><td>Lil' Kim</td><td>2</td></tr><tr><td>DJ Sammy</td><td>1</td></tr><tr><td>Default</td><td>1</td></tr><tr><td>The Goo Goo Dolls</td><td>1</td></tr><tr><td>P!nk</td><td>2</td></tr><tr><td>Delta Goodrem</td><td>2</td></tr><tr><td>Youngbloodz</td><td>1</td></tr><tr><td>Busted</td><td>3</td></tr><tr><td>Elvis Presley</td><td>1</td></tr><tr><td>Rachel Stevens</td><td>1</td></tr><tr><td>Linkin Park</td><td>3</td></tr><tr><td>Cam’ron</td><td>2</td></tr><tr><td>Dirty Vegas</td><td>1</td></tr><tr><td>Will Young</td><td>3</td></tr><tr><td>Faith Evans</td><td>1</td></tr><tr><td>Creed</td><td>2</td></tr><tr><td>Electric Six</td><td>1</td></tr><tr><td>R. Kelly</td><td>3</td></tr><tr><td>Audioslave</td><td>1</td></tr><tr><td>Ashanti</td><td>6</td></tr><tr><td>LL Cool J</td><td>2</td></tr><tr><td>Frankie J</td><td>1</td></tr><tr><td>Sean Paul</td><td>1</td></tr><tr><td>Monica</td><td>1</td></tr><tr><td>Puddle Of Mudd</td><td>2</td></tr><tr><td>Three Days Grace</td><td>1</td></tr><tr><td>Switchfoot</td><td>1</td></tr><tr><td>Chad Kroeger</td><td>1</td></tr><tr><td>Girls Aloud</td><td>3</td></tr><tr><td>Big Tymers</td><td>1</td></tr><tr><td>N.O.R.E.</td><td>1</td></tr><tr><td>Limp Bizkit</td><td>1</td></tr><tr><td>Santana</td><td>2</td></tr><tr><td>blink-182</td><td>1</td></tr><tr><td>Vanessa Carlton</td><td>1</td></tr><tr><td>Jaheim</td><td>1</td></tr><tr><td>Gareth Gates</td><td>2</td></tr><tr><td>Simply Red</td><td>1</td></tr><tr><td>The Chicks</td><td>1</td></tr><tr><td>Panjabi MC</td><td>1</td></tr><tr><td>Tweet</td><td>1</td></tr><tr><td>Busta Rhymes</td><td>2</td></tr><tr><td>Evanescence</td><td>2</td></tr><tr><td>Charli Baltimore</td><td>1</td></tr><tr><td>Red Hot Chili Peppers</td><td>2</td></tr><tr><td>Justin Timberlake</td><td>3</td></tr><tr><td>Fabolous</td><td>2</td></tr><tr><td>Darius</td><td>1</td></tr><tr><td>Scooter</td><td>1</td></tr><tr><td>Pharrell Williams</td><td>1</td></tr><tr><td>Ultrabeat</td><td>1</td></tr><tr><td>Wayne Wonder</td><td>1</td></tr><tr><td>Diddy</td><td>1</td></tr><tr><td>Truth Hurts</td><td>1</td></tr><tr><td>The Darkness</td><td>1</td></tr><tr><td>Aaliyah</td><td>3</td></tr><tr><td>The White Stripes</td><td>1</td></tr><tr><td>Trapt</td><td>1</td></tr><tr><td>Mýa</td><td>1</td></tr><tr><td>Good Charlotte</td><td>1</td></tr><tr><td>Tyrese</td><td>1</td></tr><tr><td>Counting Crows</td><td>1</td></tr><tr><td>Brandy</td><td>2</td></tr><tr><td>Chingy</td><td>3</td></tr><tr><td>Alanis Morissette</td><td>1</td></tr><tr><td>Lumidee</td><td>1</td></tr><tr><td>Christina Aguilera</td><td>3</td></tr><tr><td>Nas</td><td>1</td></tr><tr><td>Sheryl Crow</td><td>2</td></tr><tr><td>Céline Dion</td><td>1</td></tr><tr><td>Avril Lavigne</td><td>5</td></tr><tr><td>Junior Senior</td><td>1</td></tr><tr><td>Beyoncé</td><td>2</td></tr><tr><td>Room 5</td><td>1</td></tr><tr><td>Sophie Ellis-Bextor</td><td>1</td></tr><tr><td>t.A.T.u.</td><td>1</td></tr><tr><td>Amanda Perez</td><td>1</td></tr><tr><td>A1</td><td>1</td></tr><tr><td>Kid Rock</td><td>1</td></tr><tr><td>Kelly Rowland</td><td>1</td></tr><tr><td>Enrique Iglesias</td><td>3</td></tr><tr><td>The Killers</td><td>1</td></tr><tr><td>Gary Jules</td><td>1</td></tr><tr><td>Mario Winans</td><td>1</td></tr><tr><td>J-Kwon</td><td>1</td></tr><tr><td>DJ Casper</td><td>1</td></tr><tr><td>Ashlee Simpson</td><td>1</td></tr><tr><td>Keane</td><td>1</td></tr><tr><td>Lemar</td><td>1</td></tr><tr><td>Juvenile</td><td>1</td></tr><tr><td>D12</td><td>1</td></tr><tr><td>Twista</td><td>3</td></tr><tr><td>Petey Pablo</td><td>1</td></tr><tr><td>JoJo</td><td>1</td></tr><tr><td>Sia</td><td>1</td></tr><tr><td>Jet</td><td>1</td></tr><tr><td>Avant</td><td>1</td></tr><tr><td>Maroon 5</td><td>2</td></tr><tr><td>Christina Milian</td><td>1</td></tr><tr><td>The Shapeshifters</td><td>1</td></tr><tr><td>Jay Sean</td><td>1</td></tr><tr><td>Natasha Bedingfield</td><td>1</td></tr><tr><td>Hoobastank</td><td>1</td></tr><tr><td>George Michael</td><td>1</td></tr><tr><td>Lloyd</td><td>1</td></tr><tr><td>Lloyd Banks</td><td>1</td></tr><tr><td>Lil' Flip</td><td>1</td></tr><tr><td>Special D.</td><td>1</td></tr><tr><td>Juanes</td><td>1</td></tr><tr><td>Kelis</td><td>2</td></tr><tr><td>Scissor Sisters</td><td>2</td></tr><tr><td>Spiderbait</td><td>1</td></tr><tr><td>N.E.R.D</td><td>1</td></tr><tr><td>Tim McGraw</td><td>1</td></tr><tr><td>The Streets</td><td>2</td></tr><tr><td>LMC</td><td>1</td></tr><tr><td>T.I.</td><td>1</td></tr><tr><td>Eamon</td><td>1</td></tr><tr><td>G-Unit</td><td>1</td></tr></tbody></table></div>"
      ]
     },
     "metadata": {
      "application/vnd.databricks.v1+output": {
       "addedWidgets": {},
       "aggData": [],
       "aggError": "",
       "aggOverflow": false,
       "aggSchema": [],
       "aggSeriesLimitReached": false,
       "aggType": "",
       "arguments": {},
       "columnCustomDisplayInfos": {},
       "data": [
        [
         "*NSYNC",
         3
        ],
        [
         "Rob Thomas",
         1
        ],
        [
         "Nickelback",
         3
        ],
        [
         "Madonna",
         3
        ],
        [
         "Ryan Cabrera",
         1
        ],
        [
         "Kaiser Chiefs",
         2
        ],
        [
         "Lifehouse",
         2
        ],
        [
         "Five For Fighting",
         2
        ],
        [
         "U2",
         2
        ],
        [
         "Baby Bash",
         3
        ],
        [
         "Craig David",
         3
        ],
        [
         "Incubus",
         1
        ],
        [
         "Sunshine Anderson",
         1
        ],
        [
         "112",
         2
        ],
        [
         "Thirty Seconds To Mars",
         1
        ],
        [
         "DB Boulevard",
         1
        ],
        [
         "Kanye West",
         5
        ],
        [
         "Fat Joe",
         2
        ],
        [
         "The Coral",
         1
        ],
        [
         "Coldplay",
         6
        ],
        [
         "Uncle Kracker",
         2
        ],
        [
         "P.O.D.",
         1
        ],
        [
         "Jeezy",
         1
        ],
        [
         "Robbie Williams",
         4
        ],
        [
         "Kylie Minogue",
         7
        ],
        [
         "Gwen Stefani",
         4
        ],
        [
         "Oasis",
         3
        ],
        [
         "Michael Bublé",
         1
        ],
        [
         "Jamiroquai",
         1
        ],
        [
         "The Pussycat Dolls",
         2
        ],
        [
         "Bodyrockers",
         1
        ],
        [
         "S Club 7",
         2
        ],
        [
         "Howie Day",
         1
        ],
        [
         "Nelly",
         4
        ],
        [
         "Lenny Kravitz",
         1
        ],
        [
         "Joe",
         1
        ],
        [
         "Lil Jon & The East Side Boyz",
         1
        ],
        [
         "Papa Roach",
         1
        ],
        [
         "Jimmy Eat World",
         2
        ],
        [
         "Ginuwine",
         2
        ],
        [
         "Death Cab for Cutie",
         1
        ],
        [
         "Sugababes",
         6
        ],
        [
         "3 Doors Down",
         3
        ],
        [
         "Steps",
         1
        ],
        [
         "Ludacris",
         5
        ],
        [
         "Pretty Ricky",
         2
        ],
        [
         "No Doubt",
         5
        ],
        [
         "Ray J",
         1
        ],
        [
         "Faithless",
         1
        ],
        [
         "Missy Elliott",
         6
        ],
        [
         "The Click Five",
         1
        ],
        [
         "John Mayer",
         4
        ],
        [
         "Mariah Carey",
         3
        ],
        [
         "Kelly Clarkson",
         7
        ],
        [
         "Jennifer Lopez",
         6
        ],
        [
         "Toby Keith",
         1
        ],
        [
         "Gorillaz",
         3
        ],
        [
         "Usher",
         9
        ],
        [
         "Natalie Imbruglia",
         1
        ],
        [
         "Basement Jaxx",
         2
        ],
        [
         "Blu Cantrell",
         1
        ],
        [
         "Matchbox Twenty",
         2
        ],
        [
         "Staind",
         1
        ],
        [
         "Jesse McCartney",
         1
        ],
        [
         "Jack Johnson",
         2
        ],
        [
         "Ying Yang Twins",
         2
        ],
        [
         "Ricky Martin",
         1
        ],
        [
         "OutKast",
         6
        ],
        [
         "Trillville",
         1
        ],
        [
         "Rui Da Silva",
         1
        ],
        [
         "Gabrielle",
         2
        ],
        [
         "3LW",
         1
        ],
        [
         "50 Cent",
         4
        ],
        [
         "Faith Hill",
         1
        ],
        [
         "Ronan Keating",
         2
        ],
        [
         "Weezer",
         2
        ],
        [
         "Fragma",
         1
        ],
        [
         "Ja Rule",
         4
        ],
        [
         "iio",
         1
        ],
        [
         "Trick Daddy",
         1
        ],
        [
         "Case",
         1
        ],
        [
         "Franz Ferdinand",
         2
        ],
        [
         "The Chemical Brothers",
         1
        ],
        [
         "Green Day",
         3
        ],
        [
         "Mary J. Blige",
         3
        ],
        [
         "Shakira",
         2
        ],
        [
         "McFly",
         2
        ],
        [
         "Brian McFadden",
         1
        ],
        [
         "Travis",
         1
        ],
        [
         "Jessica Simpson",
         2
        ],
        [
         "Arctic Monkeys",
         1
        ],
        [
         "T-Pain",
         1
        ],
        [
         "Fall Out Boy",
         1
        ],
        [
         "Sugar Ray",
         1
        ],
        [
         "Black Eyed Peas",
         2
        ],
        [
         "Daniel Bedingfield",
         4
        ],
        [
         "Blue",
         3
        ],
        [
         "Emma Bunton",
         1
        ],
        [
         "Eve",
         2
        ],
        [
         "Nelly Furtado",
         2
        ],
        [
         "Eminem",
         5
        ],
        [
         "Erick Sermon",
         1
        ],
        [
         "David Banner",
         1
        ],
        [
         "Bobby V.",
         1
        ],
        [
         "Dido",
         3
        ],
        [
         "Musiq Soulchild",
         2
        ],
        [
         "James Blunt",
         1
        ],
        [
         "KT Tunstall",
         1
        ],
        [
         "Sum 41",
         2
        ],
        [
         "Tamia",
         1
        ],
        [
         "The Supermen Lovers",
         1
        ],
        [
         "Alicia Keys",
         6
        ],
        [
         "Eve 6",
         1
        ],
        [
         "John Legend",
         1
        ],
        [
         "Shayne Ward",
         1
        ],
        [
         "The All-American Rejects",
         1
        ],
        [
         "Evan And Jaron",
         1
        ],
        [
         "The Strokes",
         2
        ],
        [
         "Janet Jackson",
         2
        ],
        [
         "Atomic Kitten",
         3
        ],
        [
         "Train",
         2
        ],
        [
         "Britney Spears",
         7
        ],
        [
         "Enya",
         1
        ],
        [
         "Roger Sanchez",
         1
        ],
        [
         "Wyclef Jean",
         1
        ],
        [
         "OPM",
         1
        ],
        [
         "Westlife",
         4
        ],
        [
         "D4L",
         1
        ],
        [
         "JAY-Z",
         4
        ],
        [
         "Ciara",
         3
        ],
        [
         "Destiny's Child",
         5
        ],
        [
         "K-Ci & JoJo",
         1
        ],
        [
         "Hear'Say",
         1
        ],
        [
         "2Pac",
         2
        ],
        [
         "Daniel Powter",
         1
        ],
        [
         "Bullet For My Valentine",
         1
        ],
        [
         "Aerosmith",
         1
        ],
        [
         "Jagged Edge",
         2
        ],
        [
         "Lonestar",
         1
        ],
        [
         "Backstreet Boys",
         1
        ],
        [
         "O-Town",
         1
        ],
        [
         "Mario",
         3
        ],
        [
         "Katie Melua",
         2
        ],
        [
         "Amerie",
         1
        ],
        [
         "Stereophonics",
         2
        ],
        [
         "Gavin DeGraw",
         2
        ],
        [
         "Bow Wow",
         2
        ],
        [
         "City High",
         2
        ],
        [
         "The Isley Brothers",
         1
        ],
        [
         "Foo Fighters",
         1
        ],
        [
         "The Calling",
         2
        ],
        [
         "The Game",
         1
        ],
        [
         "Snoop Dogg",
         1
        ],
        [
         "Floetry",
         1
        ],
        [
         "Jamelia",
         1
        ],
        [
         "Michelle Branch",
         1
        ],
        [
         "Lil' Kim",
         2
        ],
        [
         "DJ Sammy",
         1
        ],
        [
         "Default",
         1
        ],
        [
         "The Goo Goo Dolls",
         1
        ],
        [
         "P!nk",
         2
        ],
        [
         "Delta Goodrem",
         2
        ],
        [
         "Youngbloodz",
         1
        ],
        [
         "Busted",
         3
        ],
        [
         "Elvis Presley",
         1
        ],
        [
         "Rachel Stevens",
         1
        ],
        [
         "Linkin Park",
         3
        ],
        [
         "Cam’ron",
         2
        ],
        [
         "Dirty Vegas",
         1
        ],
        [
         "Will Young",
         3
        ],
        [
         "Faith Evans",
         1
        ],
        [
         "Creed",
         2
        ],
        [
         "Electric Six",
         1
        ],
        [
         "R. Kelly",
         3
        ],
        [
         "Audioslave",
         1
        ],
        [
         "Ashanti",
         6
        ],
        [
         "LL Cool J",
         2
        ],
        [
         "Frankie J",
         1
        ],
        [
         "Sean Paul",
         1
        ],
        [
         "Monica",
         1
        ],
        [
         "Puddle Of Mudd",
         2
        ],
        [
         "Three Days Grace",
         1
        ],
        [
         "Switchfoot",
         1
        ],
        [
         "Chad Kroeger",
         1
        ],
        [
         "Girls Aloud",
         3
        ],
        [
         "Big Tymers",
         1
        ],
        [
         "N.O.R.E.",
         1
        ],
        [
         "Limp Bizkit",
         1
        ],
        [
         "Santana",
         2
        ],
        [
         "blink-182",
         1
        ],
        [
         "Vanessa Carlton",
         1
        ],
        [
         "Jaheim",
         1
        ],
        [
         "Gareth Gates",
         2
        ],
        [
         "Simply Red",
         1
        ],
        [
         "The Chicks",
         1
        ],
        [
         "Panjabi MC",
         1
        ],
        [
         "Tweet",
         1
        ],
        [
         "Busta Rhymes",
         2
        ],
        [
         "Evanescence",
         2
        ],
        [
         "Charli Baltimore",
         1
        ],
        [
         "Red Hot Chili Peppers",
         2
        ],
        [
         "Justin Timberlake",
         3
        ],
        [
         "Fabolous",
         2
        ],
        [
         "Darius",
         1
        ],
        [
         "Scooter",
         1
        ],
        [
         "Pharrell Williams",
         1
        ],
        [
         "Ultrabeat",
         1
        ],
        [
         "Wayne Wonder",
         1
        ],
        [
         "Diddy",
         1
        ],
        [
         "Truth Hurts",
         1
        ],
        [
         "The Darkness",
         1
        ],
        [
         "Aaliyah",
         3
        ],
        [
         "The White Stripes",
         1
        ],
        [
         "Trapt",
         1
        ],
        [
         "Mýa",
         1
        ],
        [
         "Good Charlotte",
         1
        ],
        [
         "Tyrese",
         1
        ],
        [
         "Counting Crows",
         1
        ],
        [
         "Brandy",
         2
        ],
        [
         "Chingy",
         3
        ],
        [
         "Alanis Morissette",
         1
        ],
        [
         "Lumidee",
         1
        ],
        [
         "Christina Aguilera",
         3
        ],
        [
         "Nas",
         1
        ],
        [
         "Sheryl Crow",
         2
        ],
        [
         "Céline Dion",
         1
        ],
        [
         "Avril Lavigne",
         5
        ],
        [
         "Junior Senior",
         1
        ],
        [
         "Beyoncé",
         2
        ],
        [
         "Room 5",
         1
        ],
        [
         "Sophie Ellis-Bextor",
         1
        ],
        [
         "t.A.T.u.",
         1
        ],
        [
         "Amanda Perez",
         1
        ],
        [
         "A1",
         1
        ],
        [
         "Kid Rock",
         1
        ],
        [
         "Kelly Rowland",
         1
        ],
        [
         "Enrique Iglesias",
         3
        ],
        [
         "The Killers",
         1
        ],
        [
         "Gary Jules",
         1
        ],
        [
         "Mario Winans",
         1
        ],
        [
         "J-Kwon",
         1
        ],
        [
         "DJ Casper",
         1
        ],
        [
         "Ashlee Simpson",
         1
        ],
        [
         "Keane",
         1
        ],
        [
         "Lemar",
         1
        ],
        [
         "Juvenile",
         1
        ],
        [
         "D12",
         1
        ],
        [
         "Twista",
         3
        ],
        [
         "Petey Pablo",
         1
        ],
        [
         "JoJo",
         1
        ],
        [
         "Sia",
         1
        ],
        [
         "Jet",
         1
        ],
        [
         "Avant",
         1
        ],
        [
         "Maroon 5",
         2
        ],
        [
         "Christina Milian",
         1
        ],
        [
         "The Shapeshifters",
         1
        ],
        [
         "Jay Sean",
         1
        ],
        [
         "Natasha Bedingfield",
         1
        ],
        [
         "Hoobastank",
         1
        ],
        [
         "George Michael",
         1
        ],
        [
         "Lloyd",
         1
        ],
        [
         "Lloyd Banks",
         1
        ],
        [
         "Lil' Flip",
         1
        ],
        [
         "Special D.",
         1
        ],
        [
         "Juanes",
         1
        ],
        [
         "Kelis",
         2
        ],
        [
         "Scissor Sisters",
         2
        ],
        [
         "Spiderbait",
         1
        ],
        [
         "N.E.R.D",
         1
        ],
        [
         "Tim McGraw",
         1
        ],
        [
         "The Streets",
         2
        ],
        [
         "LMC",
         1
        ],
        [
         "T.I.",
         1
        ],
        [
         "Eamon",
         1
        ],
        [
         "G-Unit",
         1
        ]
       ],
       "datasetInfos": [],
       "dbfsResultPath": null,
       "isJsonSchema": true,
       "metadata": {
        "createTempViewForImplicitDf": true,
        "dataframeName": "_sqldf",
        "executionCount": 4
       },
       "overflow": false,
       "plotOptions": {
        "customPlotOptions": {},
        "displayType": "table",
        "pivotAggregation": null,
        "pivotColumns": null,
        "xColumns": null,
        "yColumns": null
       },
       "removedWidgets": [],
       "schema": [
        {
         "metadata": "{}",
         "name": "artists",
         "type": "\"string\""
        },
        {
         "metadata": "{}",
         "name": "song_count",
         "type": "\"long\""
        }
       ],
       "type": "table"
      }
     },
     "output_type": "display_data"
    }
   ],
   "source": [
    "%sql\n",
    "SELECT * FROM spoty.spoty_schema.gold_artist_song_count"
   ]
  },
  {
   "cell_type": "markdown",
   "metadata": {
    "application/vnd.databricks.v1+cell": {
     "cellMetadata": {},
     "inputWidgets": {},
     "nuid": "00669a5d-0eda-4233-83ea-50ccbb4d7469",
     "showTitle": false,
     "tableResultSettingsMap": {},
     "title": ""
    }
   },
   "source": [
    "## Average Danceability and Energy by Artist"
   ]
  },
  {
   "cell_type": "code",
   "execution_count": 0,
   "metadata": {
    "application/vnd.databricks.v1+cell": {
     "cellMetadata": {
      "byteLimit": 2048000,
      "implicitDf": true,
      "rowLimit": 10000
     },
     "inputWidgets": {},
     "nuid": "d8b327a7-ba43-4d89-9885-4b738a12d8d6",
     "showTitle": false,
     "tableResultSettingsMap": {},
     "title": ""
    }
   },
   "outputs": [
    {
     "output_type": "display_data",
     "data": {
      "text/html": [
       "<style scoped>\n",
       "  .table-result-container {\n",
       "    max-height: 300px;\n",
       "    overflow: auto;\n",
       "  }\n",
       "  table, th, td {\n",
       "    border: 1px solid black;\n",
       "    border-collapse: collapse;\n",
       "  }\n",
       "  th, td {\n",
       "    padding: 5px;\n",
       "  }\n",
       "  th {\n",
       "    text-align: left;\n",
       "  }\n",
       "</style><div class='table-result-container'><table class='table-result'><thead style='background-color: white'><tr><th>num_affected_rows</th><th>num_inserted_rows</th></tr></thead><tbody></tbody></table></div>"
      ]
     },
     "metadata": {
      "application/vnd.databricks.v1+output": {
       "addedWidgets": {},
       "aggData": [],
       "aggError": "",
       "aggOverflow": false,
       "aggSchema": [],
       "aggSeriesLimitReached": false,
       "aggType": "",
       "arguments": {},
       "columnCustomDisplayInfos": {},
       "data": [],
       "datasetInfos": [],
       "dbfsResultPath": null,
       "isJsonSchema": true,
       "metadata": {
        "createTempViewForImplicitDf": true,
        "dataframeName": "_sqldf",
        "executionCount": 6
       },
       "overflow": false,
       "plotOptions": {
        "customPlotOptions": {},
        "displayType": "table",
        "pivotAggregation": null,
        "pivotColumns": null,
        "xColumns": null,
        "yColumns": null
       },
       "removedWidgets": [],
       "schema": [
        {
         "metadata": "{}",
         "name": "num_affected_rows",
         "type": "\"long\""
        },
        {
         "metadata": "{}",
         "name": "num_inserted_rows",
         "type": "\"long\""
        }
       ],
       "type": "table"
      }
     },
     "output_type": "display_data"
    }
   ],
   "source": [
    "%sql\n",
    "CREATE TABLE IF NOT EXISTS spoty.spoty_schema.gold_artist_avg_danceability_energy AS\n",
    "SELECT\n",
    "    artists,\n",
    "    AVG(danceability) AS avg_danceability,\n",
    "    AVG(energy) AS avg_energy\n",
    "FROM\n",
    "    spoty.spoty_schema.silver_table\n",
    "GROUP BY\n",
    "    artists;\n"
   ]
  },
  {
   "cell_type": "markdown",
   "metadata": {
    "application/vnd.databricks.v1+cell": {
     "cellMetadata": {},
     "inputWidgets": {},
     "nuid": "183a3a8b-2c07-40f1-9c79-426b7316b7df",
     "showTitle": false,
     "tableResultSettingsMap": {},
     "title": ""
    }
   },
   "source": [
    "## Top 5 Songs by Loudness and Tempo"
   ]
  },
  {
   "cell_type": "code",
   "execution_count": 0,
   "metadata": {
    "application/vnd.databricks.v1+cell": {
     "cellMetadata": {
      "byteLimit": 2048000,
      "implicitDf": true,
      "rowLimit": 10000
     },
     "inputWidgets": {},
     "nuid": "f492c82b-64a6-4f10-89a6-fc7216dba853",
     "showTitle": false,
     "tableResultSettingsMap": {},
     "title": ""
    }
   },
   "outputs": [
    {
     "output_type": "display_data",
     "data": {
      "text/html": [
       "<style scoped>\n",
       "  .table-result-container {\n",
       "    max-height: 300px;\n",
       "    overflow: auto;\n",
       "  }\n",
       "  table, th, td {\n",
       "    border: 1px solid black;\n",
       "    border-collapse: collapse;\n",
       "  }\n",
       "  th, td {\n",
       "    padding: 5px;\n",
       "  }\n",
       "  th {\n",
       "    text-align: left;\n",
       "  }\n",
       "</style><div class='table-result-container'><table class='table-result'><thead style='background-color: white'><tr><th>num_affected_rows</th><th>num_inserted_rows</th></tr></thead><tbody></tbody></table></div>"
      ]
     },
     "metadata": {
      "application/vnd.databricks.v1+output": {
       "addedWidgets": {},
       "aggData": [],
       "aggError": "",
       "aggOverflow": false,
       "aggSchema": [],
       "aggSeriesLimitReached": false,
       "aggType": "",
       "arguments": {},
       "columnCustomDisplayInfos": {},
       "data": [],
       "datasetInfos": [],
       "dbfsResultPath": null,
       "isJsonSchema": true,
       "metadata": {
        "createTempViewForImplicitDf": true,
        "dataframeName": "_sqldf",
        "executionCount": 7
       },
       "overflow": false,
       "plotOptions": {
        "customPlotOptions": {},
        "displayType": "table",
        "pivotAggregation": null,
        "pivotColumns": null,
        "xColumns": null,
        "yColumns": null
       },
       "removedWidgets": [],
       "schema": [
        {
         "metadata": "{}",
         "name": "num_affected_rows",
         "type": "\"long\""
        },
        {
         "metadata": "{}",
         "name": "num_inserted_rows",
         "type": "\"long\""
        }
       ],
       "type": "table"
      }
     },
     "output_type": "display_data"
    }
   ],
   "source": [
    "\n",
    "%sql\n",
    "CREATE TABLE IF NOT EXISTS spoty.spoty_schema.gold_top_5_songs AS\n",
    "SELECT\n",
    "    *\n",
    "FROM\n",
    "    spoty.spoty_schema.silver_table\n",
    "ORDER BY\n",
    "    loudness DESC,\n",
    "    tempo DESC\n",
    "LIMIT 5;\n",
    "\n"
   ]
  },
  {
   "cell_type": "markdown",
   "metadata": {
    "application/vnd.databricks.v1+cell": {
     "cellMetadata": {},
     "inputWidgets": {},
     "nuid": "7c29cc45-3d62-4950-be5d-a63b49083f02",
     "showTitle": false,
     "tableResultSettingsMap": {},
     "title": ""
    }
   },
   "source": [
    "## Average Tempo and Loudness by Year"
   ]
  },
  {
   "cell_type": "code",
   "execution_count": 0,
   "metadata": {
    "application/vnd.databricks.v1+cell": {
     "cellMetadata": {
      "byteLimit": 2048000,
      "implicitDf": true,
      "rowLimit": 10000
     },
     "inputWidgets": {},
     "nuid": "bd882533-ac7c-4380-bd89-253430af59ba",
     "showTitle": false,
     "tableResultSettingsMap": {},
     "title": ""
    }
   },
   "outputs": [
    {
     "output_type": "display_data",
     "data": {
      "text/html": [
       "<style scoped>\n",
       "  .table-result-container {\n",
       "    max-height: 300px;\n",
       "    overflow: auto;\n",
       "  }\n",
       "  table, th, td {\n",
       "    border: 1px solid black;\n",
       "    border-collapse: collapse;\n",
       "  }\n",
       "  th, td {\n",
       "    padding: 5px;\n",
       "  }\n",
       "  th {\n",
       "    text-align: left;\n",
       "  }\n",
       "</style><div class='table-result-container'><table class='table-result'><thead style='background-color: white'><tr><th>num_affected_rows</th><th>num_inserted_rows</th></tr></thead><tbody></tbody></table></div>"
      ]
     },
     "metadata": {
      "application/vnd.databricks.v1+output": {
       "addedWidgets": {},
       "aggData": [],
       "aggError": "",
       "aggOverflow": false,
       "aggSchema": [],
       "aggSeriesLimitReached": false,
       "aggType": "",
       "arguments": {},
       "columnCustomDisplayInfos": {},
       "data": [],
       "datasetInfos": [],
       "dbfsResultPath": null,
       "isJsonSchema": true,
       "metadata": {
        "createTempViewForImplicitDf": true,
        "dataframeName": "_sqldf",
        "executionCount": 9
       },
       "overflow": false,
       "plotOptions": {
        "customPlotOptions": {},
        "displayType": "table",
        "pivotAggregation": null,
        "pivotColumns": null,
        "xColumns": null,
        "yColumns": null
       },
       "removedWidgets": [],
       "schema": [
        {
         "metadata": "{}",
         "name": "num_affected_rows",
         "type": "\"long\""
        },
        {
         "metadata": "{}",
         "name": "num_inserted_rows",
         "type": "\"long\""
        }
       ],
       "type": "table"
      }
     },
     "output_type": "display_data"
    }
   ],
   "source": [
    "%sql\n",
    "\n",
    "CREATE TABLE IF NOT EXISTS spoty.spoty_schema.gold_yearly_avg_tempo_loudness AS\n",
    "SELECT\n",
    "    year,\n",
    "    AVG(tempo) AS avg_tempo,\n",
    "    AVG(loudness) AS avg_loudness\n",
    "FROM\n",
    "    spoty.spoty_schema.silver_table\n",
    "GROUP BY\n",
    "    year;\n"
   ]
  },
  {
   "cell_type": "markdown",
   "metadata": {
    "application/vnd.databricks.v1+cell": {
     "cellMetadata": {},
     "inputWidgets": {},
     "nuid": "cbaaf087-d252-4113-b9da-c1b8ff5aec8e",
     "showTitle": false,
     "tableResultSettingsMap": {},
     "title": ""
    }
   },
   "source": [
    "## Total Duration by Artist "
   ]
  },
  {
   "cell_type": "code",
   "execution_count": 0,
   "metadata": {
    "application/vnd.databricks.v1+cell": {
     "cellMetadata": {
      "byteLimit": 2048000,
      "implicitDf": true,
      "rowLimit": 10000
     },
     "inputWidgets": {},
     "nuid": "4c92ccdf-d2bf-45c8-bcd6-c7fa0a254c23",
     "showTitle": false,
     "tableResultSettingsMap": {},
     "title": ""
    }
   },
   "outputs": [
    {
     "output_type": "display_data",
     "data": {
      "text/html": [
       "<style scoped>\n",
       "  .table-result-container {\n",
       "    max-height: 300px;\n",
       "    overflow: auto;\n",
       "  }\n",
       "  table, th, td {\n",
       "    border: 1px solid black;\n",
       "    border-collapse: collapse;\n",
       "  }\n",
       "  th, td {\n",
       "    padding: 5px;\n",
       "  }\n",
       "  th {\n",
       "    text-align: left;\n",
       "  }\n",
       "</style><div class='table-result-container'><table class='table-result'><thead style='background-color: white'><tr><th>num_affected_rows</th><th>num_inserted_rows</th></tr></thead><tbody></tbody></table></div>"
      ]
     },
     "metadata": {
      "application/vnd.databricks.v1+output": {
       "addedWidgets": {},
       "aggData": [],
       "aggError": "",
       "aggOverflow": false,
       "aggSchema": [],
       "aggSeriesLimitReached": false,
       "aggType": "",
       "arguments": {},
       "columnCustomDisplayInfos": {},
       "data": [],
       "datasetInfos": [],
       "dbfsResultPath": null,
       "isJsonSchema": true,
       "metadata": {
        "createTempViewForImplicitDf": true,
        "dataframeName": "_sqldf",
        "executionCount": 10
       },
       "overflow": false,
       "plotOptions": {
        "customPlotOptions": {},
        "displayType": "table",
        "pivotAggregation": null,
        "pivotColumns": null,
        "xColumns": null,
        "yColumns": null
       },
       "removedWidgets": [],
       "schema": [
        {
         "metadata": "{}",
         "name": "num_affected_rows",
         "type": "\"long\""
        },
        {
         "metadata": "{}",
         "name": "num_inserted_rows",
         "type": "\"long\""
        }
       ],
       "type": "table"
      }
     },
     "output_type": "display_data"
    }
   ],
   "source": [
    "%sql\n",
    "CREATE TABLE IF NOT EXISTS spoty.spoty_schema.gold_artist_total_duration AS\n",
    "SELECT\n",
    "    artists,\n",
    "    SUM(duration_ms) AS total_duration_ms\n",
    "FROM\n",
    "    spoty.spoty_schema.silver_table\n",
    "GROUP BY\n",
    "    artists;"
   ]
  }
 ],
 "metadata": {
  "application/vnd.databricks.v1+notebook": {
   "computePreferences": null,
   "dashboards": [],
   "environmentMetadata": {
    "base_environment": "",
    "environment_version": "2"
   },
   "language": "python",
   "notebookMetadata": {
    "mostRecentlyExecutedCommandWithImplicitDF": {
     "commandId": 5410386530117837,
     "dataframes": [
      "_sqldf"
     ]
    },
    "pythonIndentUnit": 4
   },
   "notebookName": "Spotify-gold tables",
   "widgets": {}
  },
  "language_info": {
   "name": "python"
  }
 },
 "nbformat": 4,
 "nbformat_minor": 0
}